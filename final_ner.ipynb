{
 "cells": [
  {
   "cell_type": "code",
   "execution_count": null,
   "metadata": {},
   "outputs": [],
   "source": [
    "##Named Entity Extraction"
   ]
  },
  {
   "cell_type": "code",
   "execution_count": 3,
   "metadata": {},
   "outputs": [],
   "source": [
    "import os\n",
    "import numpy as np\n",
    "norm_corpus=np.array([\"\"])\n",
    "root=\"/home/user/NLP Intern/document-analytics/employment contracts\"\n",
    "for subdir, dirs, files in os.walk(root):\n",
    "    for file in files:\n",
    "        if file.endswith('.txt'):\n",
    "            with open(root+'/'+file, 'r') as myfile:\n",
    "                data=myfile.read().replace('\\n', '')\n",
    "            data = np.array(data)\n",
    "            norm_corpus=np.vstack((norm_corpus,data))"
   ]
  },
  {
   "cell_type": "code",
   "execution_count": 5,
   "metadata": {},
   "outputs": [],
   "source": [
    "import spacy\n",
    "nlp = spacy.load('en')\n",
    "def entities(example, show=False):\n",
    "    if show: print(example)\n",
    "    parsedEx = nlp(example)\n",
    "    ents = list(parsedEx.ents)\n",
    "    tags={}\n",
    "    for entity in ents:\n",
    "        term=' '.join(t.orth_ for t in entity)\n",
    "        if ' '.join(term) not in tags:\n",
    "            tags[term]=[(entity.label, entity.label_)]\n",
    "        else:\n",
    "            tags[term].append((entity.label, entity.label_))\n",
    "    print(tags)"
   ]
  },
  {
   "cell_type": "code",
   "execution_count": 16,
   "metadata": {},
   "outputs": [
    {
     "name": "stdout",
     "output_type": "stream",
     "text": [
      "-------------- entities only ---------------\n",
      "{'Judith D. Loughran': [(378, 'PERSON')], 'Da - Lite Screen Company': [(381, 'ORG')], 'IncExhibit 10.2EMPLOYMENT': [(381, 'ORG')], 'the Employment Agreement between': [(386, 'WORK_OF_ART')], 'Inc': [(382, 'GPE')], 'Indiana': [(382, 'GPE')], 'the “ Company ”': [(381, 'ORG')], 'the “ Executive ”': [(381, 'ORG')], 'August \\xa0 28': [(388, 'DATE')], '2006.Whereas': [(394, 'CARDINAL')], 'Company': [(381, 'ORG')], 'Executive': [(381, 'ORG')], 'April \\xa0 5': [(388, 'DATE')], 'premises': [(383, 'LOC')], 'the Company and Executive': [(381, 'ORG')], 'follows:1': [(378, 'PERSON')], '1': [(394, 'CARDINAL')], 'December \\xa0 31 , 2010': [(388, 'DATE')], 'Section \\xa0 4': [(448, 'LAW')], '3(a': [(394, 'CARDINAL')], '250,000': [(391, 'MONEY')], '287,500': [(391, 'MONEY')], 'October \\xa0 1 , 2006': [(388, 'DATE')], '3': [(394, 'CARDINAL')], '\\xa0': [(381, 'ORG')], 'WHEREOF': [(381, 'ORG')], 'Da - Lite Screen Company , Inc.': [(381, 'ORG')], 'Judith D. LoughranBy': [(378, 'PERSON')], 'Richard E. Lundin': [(378, 'PERSON')], 'Judith D. LoughranTitle': [(378, 'PERSON')]}\n",
      "-------------- entities only ---------------\n",
      "{'UNITED STATESSECURITIES AND EXCHANGE COMMISSIONWashington': [(381, 'ORG')], 'D.C.': [(382, 'GPE')], '8-KCURRENT': [(382, 'GPE')], 'REPORTPURSUANT': [(390, 'PERCENT')], 'THE SECURITIESEXCHANGE ACT OF 1934Date of Report': [(448, 'LAW')], 'May 29 , 2015Lapolla Industries': [(388, 'DATE')], 'Specified': [(379, 'NORP')], '001 - 31354': [(384, 'PRODUCT')], '13 - 3545304(State': [(394, 'CARDINAL')], 'I.R.S. Employer Identification No.)Intercontinental Business Park15402 Vantage Parkway East': [(381, 'ORG')], 'Suite 322': [(381, 'ORG')], 'Houston': [(382, 'GPE')], 'Texas': [(382, 'GPE')], '219': [(394, 'CARDINAL')], 'Telephone Number , Including': [(381, 'ORG')], 'Form8-K': [(379, 'NORP')], 'Rule 425': [(384, 'PRODUCT')], 'the Securities Act': [(448, 'LAW')], '17': [(394, 'CARDINAL')], '230.425)o': [(394, 'CARDINAL')], '\\t Soliciting': [(381, 'ORG')], 'Rule 14a-12': [(384, 'PRODUCT')], 'the Exchange Act': [(448, 'LAW')], 'CFR': [(381, 'ORG')], '240.14a-12)o': [(394, 'CARDINAL')], 'Rule 13e-4(c': [(386, 'WORK_OF_ART')], '240.13e-4(c))LAPOLLA': [(394, 'CARDINAL')], '8-KMAY 29': [(394, 'CARDINAL')], '1': [(394, 'CARDINAL')], 'BUSINESS AND OPERATIONS \\t 1Item': [(381, 'ORG')], '1.01': [(394, 'CARDINAL')], '9': [(394, 'CARDINAL')], '\\t': [(378, 'PERSON'), (381, 'ORG')], '9.01': [(394, 'CARDINAL')], 'Exhibits \\t': [(378, 'PERSON')], '1SIGNATURES': [(394, 'CARDINAL')], 'Material Definitive AgreementAmendment to Loan': [(381, 'ORG')], 'Security AgreementThe Company': [(381, 'ORG')], 'Loan': [(381, 'ORG')], 'SecurityAgreement': [(381, 'ORG')], 'Bank of America': [(381, 'ORG')], 'N.A.': [(382, 'GPE')], 'August 31 , 2010': [(388, 'DATE')], '“ Loan Agreement': [(448, 'LAW')], 'America': [(382, 'GPE')], '13,000,000': [(391, 'MONEY')], 'Revolver Loan': [(386, 'WORK_OF_ART')], 'May 29 , 2015': [(388, 'DATE')], 'the Company and Bank of America': [(381, 'ORG')], 'a Thirteenth Amendment': [(448, 'LAW')], 'Amendment': [(385, 'EVENT')], 'Loan Agreement': [(381, 'ORG')], 'RevolverLoan': [(381, 'ORG')], 'March 31 , 2019': [(388, 'DATE')], '90 days': [(388, 'DATE')], 'the New Subordinated TermDebt': [(381, 'ORG')], '7,200,000': [(391, 'MONEY')], 'December 10 , 2016': [(388, 'DATE')], 'Note Purchase Agreementdated': [(381, 'ORG')], 'December 10 , 2013': [(388, 'DATE')], 'the Company , Enhanced Jobs': [(381, 'ORG')], 'Texas Fund': [(381, 'ORG')], 'LLC , and Enhanced Capital Texas Fund': [(381, 'ORG')], 'LP': [(382, 'GPE')], 'and(c': [(378, 'PERSON')], 'Subordination Agreement': [(448, 'LAW')], 'April 16 , 2012': [(388, 'DATE')], 'Company': [(381, 'ORG')], 'Richard J. Kurtz': [(378, 'PERSON')], 'andBank of America': [(381, 'ORG')], 'such Subordination Agreement': [(448, 'LAW')], 'the Junior Notes': [(384, 'PRODUCT')], 'June 10': [(388, 'DATE')], '1 ) Amendment': [(448, 'LAW')], '10.12': [(394, 'CARDINAL')], '2': [(394, 'CARDINAL')], 'the Loan Agreement': [(448, 'LAW')], 'Exhibits 10.1': [(378, 'PERSON')], '10.11': [(394, 'CARDINAL')], 'the Securitiesand Exchange Commission': [(381, 'ORG')], 'SEC': [(381, 'ORG')], 'Item': [(382, 'GPE')], '3': [(394, 'CARDINAL')], 'Exhibits 10.13': [(388, 'DATE')], '10.17': [(394, 'CARDINAL')], 'the Subordination Agreement': [(448, 'LAW')], '10.18': [(394, 'CARDINAL')], '10.19': [(394, 'CARDINAL')], '10.20,and 10.22': [(388, 'DATE')], 'SECTION 9 – FINANCIAL STATEMENTS': [(384, 'PRODUCT')], 'EXHIBITSItem': [(382, 'GPE')], 'the SecuritiesExchange Act': [(385, 'EVENT')], '1934': [(388, 'DATE')], 'June 10 , 2015 \\t': [(388, 'DATE')], 'LAPOLLA INDUSTRIES': [(381, 'ORG')], 'Michael T. Adams': [(378, 'PERSON')], 'Michael T. AdamsTitle': [(378, 'PERSON')], 'Number \\t\\xa0\\t Description10.1': [(381, 'ORG')], 'Bank of American Loan and Security Agreement': [(381, 'ORG')], 'September 1 , 2010': [(388, 'DATE')], 'Exhibit 10.1': [(381, 'ORG')], 'September 7': [(388, 'DATE')], '2011).10.2': [(394, 'CARDINAL')], 'First Amendment': [(448, 'LAW')], 'November 10 , 2010': [(388, 'DATE')], 'Bank of America Loan Agreement': [(381, 'ORG')], 'November 18': [(388, 'DATE')], '2010).10.3 \\t\\xa0\\t Third Amendment': [(392, 'QUANTITY')], 'May 11 , 2011': [(388, 'DATE')], 'Loan and Security Agreement': [(381, 'ORG')], 'Lapolla': [(382, 'GPE')], 'Exhibit 10.2': [(381, 'ORG')], 'Form': [(381, 'ORG')], 'quarterly': [(388, 'DATE')], 'March 31 , 2011': [(388, 'DATE')], 'May 16': [(388, 'DATE')], '2011).10.4': [(394, 'CARDINAL')], 'Fourth Amendment': [(448, 'LAW')], 'August 17 , 2011': [(388, 'DATE')], 'June 30 , 2011': [(388, 'DATE')], 'August 19': [(388, 'DATE')], '2011).10.5': [(394, 'CARDINAL')], '\\t\\xa0\\t': [(381, 'ORG')], 'Sixth Amendment': [(448, 'LAW')], 'Exhibit 10.48': [(381, 'ORG')], 'the year ended December 31 , 2011': [(388, 'DATE')], 'April 16': [(388, 'DATE')], '2012)10.6': [(381, 'ORG')], 'Seventh Amendment': [(448, 'LAW')], 'June 29 , 2012': [(388, 'DATE')], 'Lapolla and Bank of America': [(381, 'ORG')], 'Exhibit 10.6': [(384, 'PRODUCT')], 'July 6': [(388, 'DATE')], 'Eighth Amendment': [(448, 'LAW')], 'November 15 , 2012': [(388, 'DATE')], 'September 30 , 2012': [(388, 'DATE')], 'November 19': [(388, 'DATE')], 'Ninth Amendment': [(448, 'LAW')], 'May 3 , 2013': [(388, 'DATE')], 'March 31 , 2013': [(388, 'DATE')], 'May 13': [(388, 'DATE')], 'Tenth Amendment': [(448, 'LAW')], 'December 16': [(388, 'DATE')], '2013).10.10': [(394, 'CARDINAL')], 'Eleventh Amendment': [(448, 'LAW')], 'November 14 , 2014': [(388, 'DATE')], 'September 30 , 2014': [(388, 'DATE')], 'November 17': [(388, 'DATE')], '2014).10.11': [(394, 'CARDINAL')], 'Twelfth Amendment': [(448, 'LAW')], 'January 23 , 2015': [(388, 'DATE')], 'Lapolla Industries , Inc.': [(381, 'ORG')], 'January 21 , 2015': [(388, 'DATE')], 'January 27': [(388, 'DATE')], '2015)10.12': [(388, 'DATE')], 'Thirteenth Amendment': [(448, 'LAW')], '2013).10.14': [(388, 'DATE')], 'LLC': [(381, 'ORG')], '2013).10.15': [(394, 'CARDINAL')], 'Enhanced Capital Texas Fund': [(381, 'ORG')], 'Exhibit 10.3': [(381, 'ORG')], '2013).10.16': [(394, 'CARDINAL')], 'April 8 , 2014': [(388, 'DATE')], 'Note Purchase Agreement': [(381, 'ORG')], 'Lapolla and Enhanced Jobs': [(381, 'ORG')], 'Form 10-K': [(388, 'DATE')], 'December 31 , 2013': [(388, 'DATE')], 'April 10': [(388, 'DATE')], '2014).10.17 \\t\\xa0\\t Second': [(392, 'QUANTITY')], '2014).10.18': [(394, 'CARDINAL')], 'Bank of America.10.19': [(381, 'ORG')], 'November 13 , 2014': [(388, 'DATE')], 'Bank of America.10.20': [(381, 'ORG')], 'Richard J.': [(378, 'PERSON')], 'Exhibit 10.15': [(381, 'ORG')], '2015).10.22': [(394, 'CARDINAL')], 'Second Amendment': [(448, 'LAW')], 'Bank of America.*Filed': [(381, 'ORG')]}\n",
      "-------------- entities only ---------------\n",
      "{'the 26th day of November , 2002': [(388, 'DATE')], 'Sciences , Inc.': [(381, 'ORG')], 'Pennsylvania': [(382, 'GPE')], 'Robert C. Cole': [(378, 'PERSON')], 'Employee\").WHEREAS , Employee': [(386, 'WORK_OF_ART')], 'Employer': [(384, 'PRODUCT')], 'ofEmployee': [(378, 'PERSON')], 'NOW': [(381, 'ORG')], 'EMPLOYMENT': [(378, 'PERSON')], 'Employee': [(381, 'ORG')], 'TIME': [(381, 'ORG')], 'toEmployee as follows:(a )': [(381, 'ORG')], 'One Hundred Fifty Five': [(394, 'CARDINAL')], 'Bonus': [(383, 'LOC')], 'Reviews': [(379, 'NORP')], 'annually': [(388, 'DATE')], 'Companypolicies': [(378, 'PERSON')], 'January 1 , 2003': [(388, 'DATE')], 'December 31 , 2003 unless': [(388, 'DATE')], 'one - year': [(388, 'DATE')], '90 ) days': [(388, 'DATE')], 'Employer or Employee': [(448, 'LAW')], 'SEVERANCE': [(381, 'ORG')], 'twelve month period': [(388, 'DATE')], \"one year 's\": [(388, 'DATE')], '3(a': [(394, 'CARDINAL')], 'CONTROL': [(381, 'ORG')], 'six months': [(388, 'DATE')], '5': [(394, 'CARDINAL')], '50 %': [(390, 'PERCENT')], 'WHEREOF': [(381, 'ORG')], 'Employee andEmployer': [(381, 'ORG')], 'first': [(393, 'ORDINAL')], 'DERMA': [(381, 'ORG')], 'INC.By:/s/': [(382, 'GPE')], 'Edward J. QuiltyEdward J. QuiltyPresident': [(378, 'PERSON')], 'OfficerEMPLOYEE:/s/ Robert C. ColeRobert C. Cole': [(378, 'PERSON')]}\n"
     ]
    },
    {
     "name": "stdout",
     "output_type": "stream",
     "text": [
      "-------------- entities only ---------------\n",
      "{'10.4AMENDMENT': [(394, 'CARDINAL')], 'Kensey Nash Corporation': [(381, 'ORG')], 'Delaware': [(382, 'GPE')], 'the “ Company ”': [(381, 'ORG')], 'Todd M. DeWitt': [(378, 'PERSON')], 'the “ Executive ”': [(381, 'ORG')], 'Amended': [(381, 'ORG')], 'RestatedEmployment Agreement': [(381, 'ORG')], 'January \\xa0 1 , 2009': [(388, 'DATE')], 'the “ Employment Term ”': [(386, 'WORK_OF_ART')], 'January \\xa0 1': [(388, 'DATE')], '2012;WHEREAS': [(394, 'CARDINAL')], 'October \\xa0 21 , 2011': [(388, 'DATE')], 'the Company and Executive': [(381, 'ORG')], '2013;WHEREAS': [(394, 'CARDINAL')], 'theAgreement': [(381, 'ORG')], 'Company': [(381, 'ORG')], 'Executive': [(381, 'ORG')], 'Paragraph': [(381, 'ORG')], '19': [(394, 'CARDINAL')], '19 of the Agreement': [(386, 'WORK_OF_ART')], 'Agreement': [(381, 'ORG')], 'I. Paragraph 3(c ) of the Agreement': [(381, 'ORG')], 'Attachment A': [(381, 'ORG')], 'Attachment B': [(381, 'ORG')], 'Paragraph 3(h': [(381, 'ORG')], 'Attachment C': [(381, 'ORG')], 'second': [(393, 'ORDINAL')], 'Paragraph 9 of the Agreement': [(9191306739292312949, 'FAC')], 'Attachment D': [(381, 'ORG')], 'V. Exhibit C': [(382, 'GPE')], 'Attachment E': [(381, 'ORG')], 'WHEREOF': [(381, 'ORG')], 'Amendment': [(385, 'EVENT')], 'theday 21st of October': [(388, 'DATE')], '2011.KENSEY': [(394, 'CARDINAL')], 'Douglas G. Evans': [(378, 'PERSON')], 'Todd M. DeWittTodd M. DeWittATTACHMENT ANew': [(378, 'PERSON')], 'Paragraph 3(c)(c': [(381, 'ORG')], 'the Company without Cause': [(381, 'ORG')], 'Change': [(379, 'NORP')], 'Control': [(381, 'ORG')], 'Employment Term': [(378, 'PERSON')], '\\xa0': [(381, 'ORG'), (381, 'ORG')], 'the end of the Employment Term': [(388, 'DATE')], 'one': [(394, 'CARDINAL')], 'each year': [(388, 'DATE')], '\\xa0 twelve': [(394, 'CARDINAL')], '12': [(394, 'CARDINAL')], '\\xa0 months': [(388, 'DATE')], 'sixty ( 60': [(394, 'CARDINAL')], 'the Termination Date': [(386, 'WORK_OF_ART')], 'the Company': [(381, 'ORG')], 'a Release Agreement': [(386, 'WORK_OF_ART')], 'Release Agreement': [(381, 'ORG')], 'fifty - five': [(394, 'CARDINAL')], '55': [(388, 'DATE')], 'Termination Date': [(384, 'PRODUCT')], 'the “ Continuation Benefits ”': [(386, 'WORK_OF_ART')], 'Paragraph 3(i': [(381, 'ORG')], 'twelve ( 12 ) \\xa0 months': [(388, 'DATE')], 'Plan': [(385, 'EVENT')], 'Grant Agreement': [(381, 'ORG')], 'Executive ’s Stock Options': [(381, 'ORG')], '1': [(394, 'CARDINAL')], '\\xa0 year': [(388, 'DATE')], 'Executive ’s Termination Date': [(381, 'ORG')], 'the Stock Option or SAR': [(381, 'ORG')], 'Grant Agreement or Incentive Plan': [(381, 'ORG')], 'Stock Options': [(381, 'ORG')], 'Equity Awards': [(381, 'ORG')], 'the Committee': [(381, 'ORG')], 'Paragraph 3(e)In': [(381, 'ORG')], 'Cause': [(381, 'ORG')], 'Good Reason': [(378, 'PERSON')], 'the Extended Exercise Period': [(386, 'WORK_OF_ART')], 'the Stock Option': [(385, 'EVENT')], 'EquityAwards': [(381, 'ORG')], 'Paragraph 3(h)(h': [(9191306739292312949, 'FAC')], 'Executive ’s Retirement': [(381, 'ORG')], 'Incentive Plan': [(381, 'ORG')], 'GrantAgreement': [(381, 'ORG')], 'StockOptions': [(381, 'ORG')], 'ATTACHMENT DNew': [(381, 'ORG')], 'Paragraph 9If': [(381, 'ORG')], 'Competition': [(385, 'EVENT')], 'the Company for': [(381, 'ORG')], 'Paragraph 3': [(381, 'ORG')], 'the NASDAQ Global Select Market': [(9191306739292312949, 'FAC')], 'the SAR.ATTACHMENT EExhibit C': [(381, 'ORG')], 'Executive a Stock Option , SAR , Restricted Stock': [(381, 'ORG')], 'Exhibit C': [(381, 'ORG')], 'Award': [(384, 'PRODUCT')], 'RestrictedStock': [(381, 'ORG')]}\n",
      "-------------- entities only ---------------\n",
      "{'10.1May 16': [(388, 'DATE')], 'Richard Johnson3 Fernwood RoadSummit': [(378, 'PERSON')], 'NJ 07901RE': [(381, 'ORG')], 'EMPLOYMENT AGREEMENT': [(378, 'PERSON')], 'HOTJOBS.COM': [(379, 'NORP')], 'LTD': [(379, 'NORP')], 'RICHARD JOHNSON DATEDAS': [(378, 'PERSON')], '1999': [(388, 'DATE')], 'EMPLOYMENT AGREEMENT\")Dear': [(378, 'PERSON')], 'Johnson': [(378, 'PERSON')], 'HotJobs.com , Ltd.': [(381, 'ORG')], 'the \" Company \"': [(381, 'ORG')], 'March 1 , 2001': [(388, 'DATE')], 'Company': [(381, 'ORG')], 'theBoard of the Company for the': [(381, 'ORG')], 'the Company': [(381, 'ORG')], 'Cause': [(382, 'GPE')], 'Section 4.1(b)of': [(384, 'PRODUCT')], 'the Employment Agreement': [(448, 'LAW')], 'Companyhas': [(382, 'GPE')], 'Basic Compensation': [(381, 'ORG')], 'April 6 , 2001': [(388, 'DATE')], 'annual': [(388, 'DATE')], '300,000': [(391, 'MONEY')], 'fromApril 7 , 2001 through': [(388, 'DATE')], 'May 6 , 2002': [(388, 'DATE')], 'Section4.3(b)(iii': [(381, 'ORG')], 'March 1': [(388, 'DATE')], 'February 28 , 2002': [(388, 'DATE')], 'Section 5.2': [(448, 'LAW')], 'the Company :': [(381, 'ORG')], '28 , 2003': [(388, 'DATE')], 'Richard JohnsonMay 16': [(378, 'PERSON')], '2business': [(394, 'CARDINAL')], 'February 28 , 2003': [(388, 'DATE')], 'third': [(393, 'ORDINAL')], 'one year': [(388, 'DATE')], 'the Board of the Company': [(381, 'ORG')], 'more than 5 %': [(390, 'PERCENT')], 'May 1 , 2002': [(388, 'DATE')], 'the Nasdaq Stock Market': [(381, 'ORG')], \"the Nasdaq Stock Market 's Regulatory Requirements Manual\": [(381, 'ORG')], 'Board': [(381, 'ORG')], '2001Page': [(394, 'CARDINAL')], 'the Board of the Companyor': [(381, 'ORG')], 'April 30 , 2002': [(388, 'DATE')], 'Manhattan': [(382, 'GPE')], 'John MurrayJohn': [(378, 'PERSON')], 'MurrayDirectorcc': [(381, 'ORG')], 'Robert M. Sedgwick': [(378, 'PERSON')], 'Esq': [(381, 'ORG')], 'by:/s/ Richard JohnsonRichard Johnson': [(378, 'PERSON')]}\n"
     ]
    }
   ],
   "source": [
    "# entities extracted for few files\n",
    "# ORG-Organisation\n",
    "# GPE- location\n",
    "# PERSON- person's name\n",
    "# DATE- date\n",
    "# CARDINAL- number\n",
    "# MONEY\n",
    "import pandas as pd\n",
    "df=pd.DataFrame(data=norm_corpus,columns=[\"text\"])\n",
    "df=df.drop(df.index[0])\n",
    "for i,row in df.iterrows():\n",
    "    entities(row['text'])\n",
    "    if i==5:\n",
    "        break"
   ]
  },
  {
   "cell_type": "code",
   "execution_count": null,
   "metadata": {},
   "outputs": [],
   "source": []
  },
  {
   "cell_type": "code",
   "execution_count": null,
   "metadata": {},
   "outputs": [],
   "source": []
  }
 ],
 "metadata": {
  "kernelspec": {
   "display_name": "Python 3",
   "language": "python",
   "name": "python3"
  },
  "language_info": {
   "codemirror_mode": {
    "name": "ipython",
    "version": 3
   },
   "file_extension": ".py",
   "mimetype": "text/x-python",
   "name": "python",
   "nbconvert_exporter": "python",
   "pygments_lexer": "ipython3",
   "version": "3.7.1"
  }
 },
 "nbformat": 4,
 "nbformat_minor": 2
}
