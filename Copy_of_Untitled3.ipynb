{
  "nbformat": 4,
  "nbformat_minor": 0,
  "metadata": {
    "colab": {
      "name": "Copy of Untitled3.ipynb",
      "version": "0.3.2",
      "provenance": [],
      "include_colab_link": true
    },
    "kernelspec": {
      "name": "python3",
      "display_name": "Python 3"
    },
    "accelerator": "GPU"
  },
  "cells": [
    {
      "cell_type": "markdown",
      "metadata": {
        "id": "view-in-github",
        "colab_type": "text"
      },
      "source": [
        "<a href=\"https://colab.research.google.com/github/jish1398/NLP-intern/blob/master/Copy_of_Untitled3.ipynb\" target=\"_parent\"><img src=\"https://colab.research.google.com/assets/colab-badge.svg\" alt=\"Open In Colab\"/></a>"
      ]
    },
    {
      "metadata": {
        "id": "TtHwAXdgWNqy",
        "colab_type": "code",
        "outputId": "b1ee180b-4485-46af-f2d1-abfaad033a6c",
        "colab": {
          "resources": {
            "http://localhost:8080/nbextensions/google.colab/files.js": {
              "data": "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",
              "ok": true,
              "headers": [
                [
                  "content-type",
                  "application/javascript"
                ]
              ],
              "status": 200,
              "status_text": ""
            }
          },
          "base_uri": "https://localhost:8080/",
          "height": 74
        }
      },
      "cell_type": "code",
      "source": [
        "from google.colab import files\n",
        "uploaded = files.upload()"
      ],
      "execution_count": 5,
      "outputs": [
        {
          "output_type": "display_data",
          "data": {
            "text/html": [
              "\n",
              "     <input type=\"file\" id=\"files-68a4db7b-c4da-4029-ba3d-add25ea49f9d\" name=\"files[]\" multiple disabled />\n",
              "     <output id=\"result-68a4db7b-c4da-4029-ba3d-add25ea49f9d\">\n",
              "      Upload widget is only available when the cell has been executed in the\n",
              "      current browser session. Please rerun this cell to enable.\n",
              "      </output>\n",
              "      <script src=\"/nbextensions/google.colab/files.js\"></script> "
            ],
            "text/plain": [
              "<IPython.core.display.HTML object>"
            ]
          },
          "metadata": {
            "tags": []
          }
        },
        {
          "output_type": "stream",
          "text": [
            "Saving data.json to data.json\n"
          ],
          "name": "stdout"
        }
      ]
    },
    {
      "metadata": {
        "id": "rI9nN7HWxRy_",
        "colab_type": "code",
        "colab": {
          "base_uri": "https://localhost:8080/",
          "height": 326
        },
        "outputId": "27a7791a-ef7e-405e-dae6-7e233a4f0f11"
      },
      "cell_type": "code",
      "source": [
        "!pip install spacy==2.1.3"
      ],
      "execution_count": 2,
      "outputs": [
        {
          "output_type": "stream",
          "text": [
            "Requirement already satisfied: spacy==2.1.3 in /usr/local/lib/python3.6/dist-packages (2.1.3)\n",
            "Requirement already satisfied: requests<3.0.0,>=2.13.0 in /usr/local/lib/python3.6/dist-packages (from spacy==2.1.3) (2.18.4)\n",
            "Requirement already satisfied: wasabi<1.1.0,>=0.2.0 in /usr/local/lib/python3.6/dist-packages (from spacy==2.1.3) (0.2.1)\n",
            "Requirement already satisfied: murmurhash<1.1.0,>=0.28.0 in /usr/local/lib/python3.6/dist-packages (from spacy==2.1.3) (1.0.2)\n",
            "Requirement already satisfied: plac<1.0.0,>=0.9.6 in /usr/local/lib/python3.6/dist-packages (from spacy==2.1.3) (0.9.6)\n",
            "Requirement already satisfied: blis<0.3.0,>=0.2.2 in /usr/local/lib/python3.6/dist-packages (from spacy==2.1.3) (0.2.4)\n",
            "Requirement already satisfied: preshed<2.1.0,>=2.0.1 in /usr/local/lib/python3.6/dist-packages (from spacy==2.1.3) (2.0.1)\n",
            "Requirement already satisfied: numpy>=1.15.0 in /usr/local/lib/python3.6/dist-packages (from spacy==2.1.3) (1.16.2)\n",
            "Requirement already satisfied: srsly<1.1.0,>=0.0.5 in /usr/local/lib/python3.6/dist-packages (from spacy==2.1.3) (0.0.5)\n",
            "Requirement already satisfied: cymem<2.1.0,>=2.0.2 in /usr/local/lib/python3.6/dist-packages (from spacy==2.1.3) (2.0.2)\n",
            "Requirement already satisfied: thinc<7.1.0,>=7.0.2 in /usr/local/lib/python3.6/dist-packages (from spacy==2.1.3) (7.0.4)\n",
            "Requirement already satisfied: jsonschema<3.0.0,>=2.6.0 in /usr/local/lib/python3.6/dist-packages (from spacy==2.1.3) (2.6.0)\n",
            "Requirement already satisfied: chardet<3.1.0,>=3.0.2 in /usr/local/lib/python3.6/dist-packages (from requests<3.0.0,>=2.13.0->spacy==2.1.3) (3.0.4)\n",
            "Requirement already satisfied: certifi>=2017.4.17 in /usr/local/lib/python3.6/dist-packages (from requests<3.0.0,>=2.13.0->spacy==2.1.3) (2019.3.9)\n",
            "Requirement already satisfied: idna<2.7,>=2.5 in /usr/local/lib/python3.6/dist-packages (from requests<3.0.0,>=2.13.0->spacy==2.1.3) (2.6)\n",
            "Requirement already satisfied: urllib3<1.23,>=1.21.1 in /usr/local/lib/python3.6/dist-packages (from requests<3.0.0,>=2.13.0->spacy==2.1.3) (1.22)\n",
            "Requirement already satisfied: tqdm<5.0.0,>=4.10.0 in /usr/local/lib/python3.6/dist-packages (from thinc<7.1.0,>=7.0.2->spacy==2.1.3) (4.28.1)\n"
          ],
          "name": "stdout"
        }
      ]
    },
    {
      "metadata": {
        "id": "NVTO2WcGWfl0",
        "colab_type": "code",
        "colab": {
          "base_uri": "https://localhost:8080/",
          "height": 34
        },
        "outputId": "2a3a20bc-b54a-4f29-b4ef-d52a19356f14"
      },
      "cell_type": "code",
      "source": [
        "import spacy\n",
        "import json\n",
        "import logging\n",
        "import random\n",
        "print(spacy.__version__)"
      ],
      "execution_count": 3,
      "outputs": [
        {
          "output_type": "stream",
          "text": [
            "2.1.3\n"
          ],
          "name": "stdout"
        }
      ]
    },
    {
      "metadata": {
        "id": "3T--hLasWo44",
        "colab_type": "code",
        "colab": {}
      },
      "cell_type": "code",
      "source": [
        "def convert_dataturks_to_spacy(dataturks_JSON_FilePath):\n",
        "    try:\n",
        "        training_data = []\n",
        "        lines=[]\n",
        "        with open(dataturks_JSON_FilePath, 'r',encoding=\"UTF-8\") as f:\n",
        "            lines = f.readlines()\n",
        "\n",
        "        for line in lines:\n",
        "\n",
        "            data = json.loads(line)\n",
        "            text = data['content']\n",
        "            entities = []\n",
        "            \n",
        "            if(type(data['annotation']) != type(None)):\n",
        "            \n",
        "                for annotation in data['annotation']:\n",
        "                    \n",
        "                    point = annotation['points'][0]\n",
        "                    labels = annotation['label']\n",
        "                    \n",
        "                    if not isinstance(labels, list):\n",
        "                        labels = [labels]\n",
        "\n",
        "                    for label in labels:\n",
        "                        \n",
        "                        entities.append((point['start'], point['end'] + 1 ,label))\n",
        "\n",
        "\n",
        "                training_data.append((text, {\"entities\" : entities}))\n",
        "\n",
        "        return training_data\n",
        "    except Exception as e:\n",
        "        logging.exception(\"Unable to process \" + dataturks_JSON_FilePath + \"\\n\" + \"error = \" + str(e))\n",
        "        return None"
      ],
      "execution_count": 0,
      "outputs": []
    },
    {
      "metadata": {
        "id": "qfVPN_0AXAdc",
        "colab_type": "code",
        "colab": {}
      },
      "cell_type": "code",
      "source": [
        "data = convert_dataturks_to_spacy(\"data.json\")"
      ],
      "execution_count": 0,
      "outputs": []
    },
    {
      "metadata": {
        "id": "6TjclNSeXZkT",
        "colab_type": "code",
        "colab": {}
      },
      "cell_type": "code",
      "source": [
        "td1=data[:26]\n",
        "td2=data[31:173]\n",
        "td3=data[177:249]\n",
        "td4=data[252:300]\n",
        "\n",
        "\n",
        "train_data = td1+td2+td3\n"
      ],
      "execution_count": 0,
      "outputs": []
    },
    {
      "metadata": {
        "id": "1j1sFEisXczi",
        "colab_type": "code",
        "colab": {}
      },
      "cell_type": "code",
      "source": [
        "def train_spacy(train_data):\n",
        "    TRAIN_DATA = train_data\n",
        "    nlp = spacy.blank('en')  \n",
        "    if 'ner' not in nlp.pipe_names:\n",
        "        ner = nlp.create_pipe('ner')\n",
        "        nlp.add_pipe(ner, last=True)\n",
        "\n",
        "   \n",
        "    for text, annotations in TRAIN_DATA:\n",
        "        for ent in annotations.get('entities'):\n",
        "            ner.add_label(ent[2])\n",
        "\n",
        "    \n",
        "    other_pipes = [pipe for pipe in nlp.pipe_names if pipe != 'ner']\n",
        "    with nlp.disable_pipes(*other_pipes):  \n",
        "        optimizer = nlp.begin_training()\n",
        "        for itn in range(100):\n",
        "            print(\"Starting iteration \" + str(itn))\n",
        "            random.shuffle(TRAIN_DATA)\n",
        "            losses = {}\n",
        "            for text, annotations in TRAIN_DATA:\n",
        "                \n",
        "                nlp.update(\n",
        "                    [text],  \n",
        "                    [annotations],  \n",
        "                    drop=0.05,  \n",
        "                    sgd=optimizer,  \n",
        "                    losses=losses)\n",
        "            print(losses)\n",
        "    nlp.to_disk('sample_work_model_300_drop_0.05')"
      ],
      "execution_count": 0,
      "outputs": []
    },
    {
      "metadata": {
        "id": "CjA_y5aMXgig",
        "colab_type": "code",
        "outputId": "5e3938e5-c16d-450b-f670-76a4d20b2cf7",
        "colab": {
          "base_uri": "https://localhost:8080/",
          "height": 3417
        }
      },
      "cell_type": "code",
      "source": [
        "train_spacy(train_data)"
      ],
      "execution_count": 18,
      "outputs": [
        {
          "output_type": "stream",
          "text": [
            "Starting iteration 0\n",
            "{'ner': 52258.25662486403}\n",
            "Starting iteration 1\n",
            "{'ner': 49513.929914883694}\n",
            "Starting iteration 2\n",
            "{'ner': 52611.097175604846}\n",
            "Starting iteration 3\n",
            "{'ner': 39956.04617427384}\n",
            "Starting iteration 4\n",
            "{'ner': 33214.202342177465}\n",
            "Starting iteration 5\n",
            "{'ner': 42044.17877005543}\n",
            "Starting iteration 6\n",
            "{'ner': 34509.18991526442}\n",
            "Starting iteration 7\n",
            "{'ner': 40459.78186563896}\n",
            "Starting iteration 8\n",
            "{'ner': 38205.90117616678}\n",
            "Starting iteration 9\n",
            "{'ner': 34023.440170355985}\n",
            "Starting iteration 10\n",
            "{'ner': 30823.740223695997}\n",
            "Starting iteration 11\n",
            "{'ner': 25231.223113515196}\n",
            "Starting iteration 12\n",
            "{'ner': 23437.822796061937}\n",
            "Starting iteration 13\n",
            "{'ner': 24318.909738822935}\n",
            "Starting iteration 14\n",
            "{'ner': 17794.59076704312}\n",
            "Starting iteration 15\n",
            "{'ner': 16299.870720423714}\n",
            "Starting iteration 16\n",
            "{'ner': 19279.544595461197}\n",
            "Starting iteration 17\n",
            "{'ner': 19025.193689126325}\n",
            "Starting iteration 18\n",
            "{'ner': 15449.998673000848}\n",
            "Starting iteration 19\n",
            "{'ner': 17657.586654244496}\n",
            "Starting iteration 20\n",
            "{'ner': 14462.247189700603}\n",
            "Starting iteration 21\n",
            "{'ner': 13845.815081757584}\n",
            "Starting iteration 22\n",
            "{'ner': 11963.979507697524}\n",
            "Starting iteration 23\n",
            "{'ner': 11830.893332822492}\n",
            "Starting iteration 24\n",
            "{'ner': 12774.84478530789}\n",
            "Starting iteration 25\n",
            "{'ner': 9369.212936014417}\n",
            "Starting iteration 26\n",
            "{'ner': 10698.591703119388}\n",
            "Starting iteration 27\n",
            "{'ner': 10260.806406515963}\n",
            "Starting iteration 28\n",
            "{'ner': 10567.2099812686}\n",
            "Starting iteration 29\n",
            "{'ner': 10921.58283182049}\n",
            "Starting iteration 30\n",
            "{'ner': 8819.262264765672}\n",
            "Starting iteration 31\n",
            "{'ner': 10534.16491395569}\n",
            "Starting iteration 32\n",
            "{'ner': 9637.362502718242}\n",
            "Starting iteration 33\n",
            "{'ner': 10275.270248849978}\n",
            "Starting iteration 34\n",
            "{'ner': 9989.94426315648}\n",
            "Starting iteration 35\n",
            "{'ner': 10727.633694329994}\n",
            "Starting iteration 36\n",
            "{'ner': 7149.499121764215}\n",
            "Starting iteration 37\n",
            "{'ner': 7041.686090562675}\n",
            "Starting iteration 38\n",
            "{'ner': 7796.606252027444}\n",
            "Starting iteration 39\n",
            "{'ner': 7004.645672579831}\n",
            "Starting iteration 40\n",
            "{'ner': 8055.491902485734}\n",
            "Starting iteration 41\n",
            "{'ner': 6225.778166302347}\n",
            "Starting iteration 42\n",
            "{'ner': 6132.620412847626}\n",
            "Starting iteration 43\n",
            "{'ner': 6154.1285594639385}\n",
            "Starting iteration 44\n",
            "{'ner': 5473.611982983977}\n",
            "Starting iteration 45\n",
            "{'ner': 5695.081198808604}\n",
            "Starting iteration 46\n",
            "{'ner': 5302.894727171296}\n",
            "Starting iteration 47\n",
            "{'ner': 5838.622278160144}\n",
            "Starting iteration 48\n",
            "{'ner': 6437.620749268455}\n",
            "Starting iteration 49\n",
            "{'ner': 5753.989208523268}\n",
            "Starting iteration 50\n",
            "{'ner': 5430.938698873468}\n",
            "Starting iteration 51\n",
            "{'ner': 4693.005397640576}\n",
            "Starting iteration 52\n",
            "{'ner': 5477.897655914677}\n",
            "Starting iteration 53\n",
            "{'ner': 5260.912459625942}\n",
            "Starting iteration 54\n",
            "{'ner': 5464.5353953722315}\n",
            "Starting iteration 55\n",
            "{'ner': 4788.1396083383215}\n",
            "Starting iteration 56\n",
            "{'ner': 3942.7018970676227}\n",
            "Starting iteration 57\n",
            "{'ner': 4228.702312397033}\n",
            "Starting iteration 58\n",
            "{'ner': 3773.829026574671}\n",
            "Starting iteration 59\n",
            "{'ner': 4544.335205659942}\n",
            "Starting iteration 60\n",
            "{'ner': 4110.488690637849}\n",
            "Starting iteration 61\n",
            "{'ner': 3149.396283961831}\n",
            "Starting iteration 62\n",
            "{'ner': 3181.6199889259324}\n",
            "Starting iteration 63\n",
            "{'ner': 4532.635876380692}\n",
            "Starting iteration 64\n",
            "{'ner': 3368.393311905654}\n",
            "Starting iteration 65\n",
            "{'ner': 3205.7283467207467}\n",
            "Starting iteration 66\n",
            "{'ner': 4064.781681960703}\n",
            "Starting iteration 67\n",
            "{'ner': 3102.1748895900882}\n",
            "Starting iteration 68\n",
            "{'ner': 3522.589169120349}\n",
            "Starting iteration 69\n",
            "{'ner': 3891.9381757733677}\n",
            "Starting iteration 70\n",
            "{'ner': 2892.010952208145}\n",
            "Starting iteration 71\n",
            "{'ner': 2942.5804412015627}\n",
            "Starting iteration 72\n",
            "{'ner': 2875.0813543034774}\n",
            "Starting iteration 73\n",
            "{'ner': 2730.578131697203}\n",
            "Starting iteration 74\n",
            "{'ner': 3031.2191440256975}\n",
            "Starting iteration 75\n",
            "{'ner': 2841.8974442639073}\n",
            "Starting iteration 76\n",
            "{'ner': 3095.934372213679}\n",
            "Starting iteration 77\n",
            "{'ner': 2581.2452039255836}\n",
            "Starting iteration 78\n",
            "{'ner': 2617.496460764096}\n",
            "Starting iteration 79\n",
            "{'ner': 2487.599947989231}\n",
            "Starting iteration 80\n",
            "{'ner': 2797.9570944861894}\n",
            "Starting iteration 81\n",
            "{'ner': 2533.104974037661}\n",
            "Starting iteration 82\n",
            "{'ner': 2689.871531212951}\n",
            "Starting iteration 83\n",
            "{'ner': 2298.0512542427396}\n",
            "Starting iteration 84\n",
            "{'ner': 2710.644448804182}\n",
            "Starting iteration 85\n",
            "{'ner': 2381.6624406195738}\n",
            "Starting iteration 86\n",
            "{'ner': 2880.0341867984307}\n",
            "Starting iteration 87\n",
            "{'ner': 2631.5846944916525}\n",
            "Starting iteration 88\n",
            "{'ner': 2443.3026827662916}\n",
            "Starting iteration 89\n",
            "{'ner': 2353.9444306918067}\n",
            "Starting iteration 90\n",
            "{'ner': 2278.302427724977}\n",
            "Starting iteration 91\n",
            "{'ner': 2268.1507673613132}\n",
            "Starting iteration 92\n",
            "{'ner': 2071.1494773254944}\n",
            "Starting iteration 93\n",
            "{'ner': 2215.346321989614}\n",
            "Starting iteration 94\n",
            "{'ner': 2134.8276600451245}\n",
            "Starting iteration 95\n",
            "{'ner': 1585.5437547873703}\n",
            "Starting iteration 96\n",
            "{'ner': 1635.2400066038}\n",
            "Starting iteration 97\n",
            "{'ner': 2101.122454274651}\n",
            "Starting iteration 98\n",
            "{'ner': 1731.4746961160265}\n",
            "Starting iteration 99\n",
            "{'ner': 1613.126006377716}\n"
          ],
          "name": "stdout"
        }
      ]
    },
    {
      "metadata": {
        "id": "Gg0wTjCDYS9Q",
        "colab_type": "code",
        "outputId": "dd9314db-e512-429f-9fcf-c5b1a2cff6ac",
        "colab": {
          "base_uri": "https://localhost:8080/",
          "height": 34
        }
      },
      "cell_type": "code",
      "source": [
        "import tensorflow as tf\n",
        "tf.test.gpu_device_name()"
      ],
      "execution_count": 1,
      "outputs": [
        {
          "output_type": "execute_result",
          "data": {
            "text/plain": [
              "'/device:GPU:0'"
            ]
          },
          "metadata": {
            "tags": []
          },
          "execution_count": 1
        }
      ]
    },
    {
      "metadata": {
        "id": "rsAKCjcFeHU3",
        "colab_type": "code",
        "outputId": "982097b0-60e1-4da4-fc1b-f2f48e1cf70a",
        "colab": {
          "base_uri": "https://localhost:8080/",
          "height": 476
        }
      },
      "cell_type": "code",
      "source": [
        "from tensorflow.python.client import device_lib\n",
        "device_lib.list_local_devices()"
      ],
      "execution_count": 0,
      "outputs": [
        {
          "output_type": "execute_result",
          "data": {
            "text/plain": [
              "[name: \"/device:CPU:0\"\n",
              " device_type: \"CPU\"\n",
              " memory_limit: 268435456\n",
              " locality {\n",
              " }\n",
              " incarnation: 6128449890667153985, name: \"/device:XLA_CPU:0\"\n",
              " device_type: \"XLA_CPU\"\n",
              " memory_limit: 17179869184\n",
              " locality {\n",
              " }\n",
              " incarnation: 4404198431831190453\n",
              " physical_device_desc: \"device: XLA_CPU device\", name: \"/device:XLA_GPU:0\"\n",
              " device_type: \"XLA_GPU\"\n",
              " memory_limit: 17179869184\n",
              " locality {\n",
              " }\n",
              " incarnation: 8290177503737042560\n",
              " physical_device_desc: \"device: XLA_GPU device\", name: \"/device:GPU:0\"\n",
              " device_type: \"GPU\"\n",
              " memory_limit: 11274954343\n",
              " locality {\n",
              "   bus_id: 1\n",
              "   links {\n",
              "   }\n",
              " }\n",
              " incarnation: 6690364833259330222\n",
              " physical_device_desc: \"device: 0, name: Tesla K80, pci bus id: 0000:00:04.0, compute capability: 3.7\"]"
            ]
          },
          "metadata": {
            "tags": []
          },
          "execution_count": 14
        }
      ]
    },
    {
      "metadata": {
        "id": "rCBh1TVweL8f",
        "colab_type": "code",
        "colab": {}
      },
      "cell_type": "code",
      "source": [
        "nlp = spacy.load('sample_work_model_300_drop_0.05')"
      ],
      "execution_count": 0,
      "outputs": []
    },
    {
      "metadata": {
        "id": "cnxj2eWm4LSw",
        "colab_type": "code",
        "colab": {}
      },
      "cell_type": "code",
      "source": [
        "test_data = data[290:]\n",
        "doc = nlp(test_data[3][0])"
      ],
      "execution_count": 0,
      "outputs": []
    },
    {
      "metadata": {
        "id": "UEDT0c_lUwAO",
        "colab_type": "code",
        "colab": {
          "base_uri": "https://localhost:8080/",
          "height": 34
        },
        "outputId": "b684ad53-8dd2-41bb-b436-25fb201fcead"
      },
      "cell_type": "code",
      "source": [
        "print(len(data))"
      ],
      "execution_count": 37,
      "outputs": [
        {
          "output_type": "stream",
          "text": [
            "300\n"
          ],
          "name": "stdout"
        }
      ]
    },
    {
      "metadata": {
        "id": "qzfYkYvU40yZ",
        "colab_type": "code",
        "colab": {}
      },
      "cell_type": "code",
      "source": [
        "def show_docs(doc):\n",
        "    if doc.ents:\n",
        "        for ent in doc.ents:\n",
        "            print(ent.text+\" --> \"+ ent.label_)"
      ],
      "execution_count": 0,
      "outputs": []
    },
    {
      "metadata": {
        "id": "Mpo4KQn043sH",
        "colab_type": "code",
        "outputId": "edc3bac9-eafc-4c9c-b4b5-8d7db5e50650",
        "colab": {
          "base_uri": "https://localhost:8080/",
          "height": 119
        }
      },
      "cell_type": "code",
      "source": [
        "show_docs(doc)"
      ],
      "execution_count": 39,
      "outputs": [
        {
          "output_type": "stream",
          "text": [
            "Chief Operating Officer --> Role\n",
            "Chief Operating Officer --> Role\n",
            "At Will --> At_will_not\n",
            "annual salary of $175,000 --> Base_Salary\n",
            "purchase shares of Common Stock --> Stock_options\n",
            "Chief Operating Officer --> Role\n"
          ],
          "name": "stdout"
        }
      ]
    },
    {
      "metadata": {
        "id": "07hOSvBL7Blo",
        "colab_type": "code",
        "outputId": "f1688430-5b3a-4c64-8eb4-d35303811ce6",
        "colab": {
          "base_uri": "https://localhost:8080/",
          "height": 54
        }
      },
      "cell_type": "code",
      "source": [
        "print(test_data[0])"
      ],
      "execution_count": 27,
      "outputs": [
        {
          "output_type": "stream",
          "text": [
            "('f8k081710ex10i_ctd.htm\\n\\n\\nExhibit 10.1\\n\\n\\n\\n\\n\\nEMPLOYMENT AGREEMENT\\n\\n\\n\\n\\n\\nTHIS EMPLOYMENT AGREEMENT (the “Agreement”) is effective as of February 15, 2010, (the “Effective Date”) by and between NANOSONIC PRODUCTS, INC., a Florida corporation (the “Company”), and JEFFREY L. TATE, Ph.D. (the “Employee”).\\n\\n\\n\\n\\n\\nRECITALS:\\n\\n\\n\\n\\n\\nThis Agreement is intended to provide for the employment of Employee by the Company from and after the date hereof, all on the terms and conditions herein set forth.\\n\\n\\n\\n\\n\\nNOW, THEREFORE, for and in consideration of the premises and the mutual covenants and agreements herein contained, and for other valuable consideration, the receipt and sufficiency of which are hereby acknowledged, the parties hereby agree as follows:\\n\\n\\n\\n\\n\\n\\n\\n1.\\n\\n\\nEmployment.\\n\\n\\n\\n\\n\\n\\n\\n\\n\\n\\n\\n\\n1.1\\n\\n\\nSubject to Section 3 below, the Company hereby employs Employee for a two- (2) year term beginning on February 15, 2010, and ending February 14, 2012 (the “Employment Term”), commencing on the Effective Date, to serve as the President and Chief Operating Officer of the Company and to perform such services and duties as are consistent with such position and as may be directed by the Company’s Board of Directors. Employee hereby accepts such employment. Employee shall not engage in any venture or activity that materially interferes with Employee’s performance of his duties hereunder. The Employee agrees to be present and to work such hours and at such times as are reasonably requested by the Company. Employee’s offices shall be located in High Springs, Florida.\\n\\n\\n\\n\\n\\n\\n\\n\\n\\n\\n\\n\\n2.\\n\\n\\nCompensation and Benefits.\\xa0\\xa0During the Employment Term, the Company shall pay Employee the compensation and other amounts set forth below.\\n\\n\\n\\n\\n\\n\\n\\n\\n\\n\\n\\n\\n2.1\\n\\n\\nSalary.\\xa0\\xa0The Company shall pay Employee a salary of Ten Thousand Dollars ($10,000) per month through February 14, 2012, The Employee’s Salary shall be payable according to the Company’s regular payroll practices and subject to such deductions as may be required by law.\\n\\n\\n\\n\\n\\n\\n\\n\\n\\n\\n\\n\\n2.2\\n\\n\\nBenefits.\\xa0\\xa0Employee shall receive: (i) the employee benefits and perquisites provided by the Company to its executive officers from time-to-time, including two (2) weeks’ paid vacation during each calendar year; and (ii) twenty (20) paid time off days per year and (iii) reimbursement for reasonable and necessary out-of-pocket expenses incurred in the performance of his duties hereunder, including, but not limited to, travel and entertainment expenses (such expenses shall be reimbursed by the Company, from time to time, upon presentation of appropriate receipts therefor).\\n\\n\\n\\n\\n\\n\\n\\n\\n\\n\\n\\n\\n\\n\\n\\n\\n\\n\\n\\n\\n\\n\\n\\n\\n\\n\\n\\n\\n\\n\\n\\n\\n\\n\\n\\n\\n\\n\\n\\n\\n\\n\\n3.\\n\\n\\nTermination.\\xa0\\xa0The Employee’s employment pursuant to this Agreement shall be terminated by the first to occur of the following events.\\n\\n\\n\\n\\n\\n\\n\\n\\n\\n\\n\\n\\n3.1\\n\\n\\nThe death of Employee.\\n\\n\\n\\n\\n\\n\\n\\n\\n\\n\\n\\n\\n3.2\\n\\n\\nThe Complete Disability of Employee. “Complete Disability” as used herein shall mean the inability of Employee, due to illness, accident or any other physical or mental incapacity, to perform the services provided for in this Agreement for an aggregate of 120 days within any period of twelve (12) consecutive months during the term hereof.\\n\\n\\n\\n\\n\\n\\n\\n\\n\\n\\n\\n\\n3.3\\n\\n\\nThe discharge of Employee at the sole discretion of the Company for Cause. “Cause” as used herein shall mean:\\n\\n\\n\\n\\n\\n\\n\\n\\n\\n\\n\\n\\n3.3.1\\n\\n\\nconviction of a felony or a crime involving moral turpitude;\\n\\n\\n\\n\\n\\n\\n\\n\\n\\n\\n\\n\\n3.3.2\\n\\n\\nacts of fraud by Employee against the Company or its affiliates, or in connection with the performance of his duties hereunder, as determined by the Company after investigation, notice of the charge to Employee and after allowing Employee an opportunity to explain the conduct in question;\\n\\n\\n\\n\\n\\n\\n\\n\\n\\n\\n\\n\\n3.3.3\\n\\n\\nthe Employee’s willful and material failure or refusal to perform Employee’s duties and obligations under this Agreement, (a “Default”); provided, however, that in the case of this subsection; termination for “Cause” shall occur only if the Company has given written notice of the Default to Employee and Employee has failed to cure the Default in question during a period of seven (7) days after the date of Employee’s receipt of such notice.\\n\\n\\n\\n\\n\\n\\n\\n\\n\\n\\n\\n\\n3.4\\n\\n\\nUpon any termination pursuant to Section 3.1, the Company shall be released from all obligations hereunder (except for the obligation to pay any compensation and benefits described in Section 2 hereof which are accrued and unpaid as of the date of termination).\\n\\n\\n\\n\\n\\n\\n\\n\\n\\n\\n\\n\\n4.\\n\\n\\nSuccessors.\\xa0\\xa0This Agreement is personal to Employee and may not be assigned by Employee. This Agreement is not assignable by the Company except in connection with the sale of all or substantially all of the Company’s assets or stock or upon a merger or any similar transaction. Subject to the foregoing, this Agreement shall inure to the benefit of and be binding upon the Company and its successors and assigns.\\n\\n\\n\\n\\n\\n\\n\\n\\n\\n\\n\\n\\n5.\\n\\n\\nMiscellaneous.\\n\\n\\n\\n\\n\\n\\n\\n\\n\\n\\n\\n\\n5.1\\n\\n\\nModification and Waiver.\\xa0\\xa0Any term or condition of this Agreement may be waived at any time by the party hereto that is entitled to the benefit thereof; provided, however, that any such waiver shall be in writing and signed by the waiving party, and no such waiver of any breach or default hereunder is to be implied from the omission of the other party to take any action on account thereof. A waiver on one occasion shall not be deemed to be a waiver of the same or of any other breach on a future occasion. This Agreement may be modified or amended only by a writing signed by both parties hereto.\\n\\n\\n\\n\\n\\n\\n\\n\\n\\n\\n\\n\\n\\n\\n\\n\\n\\n\\n\\n\\n\\n\\n\\n\\n\\n\\n\\n\\n\\n\\n\\n\\n\\n\\n\\n\\n\\n\\n\\n\\n\\n\\n5.2\\n\\n\\nGoverning Law.\\xa0\\xa0This Agreement shall be construed in accordance with, and all actions arising under or in connection therewith shall be governed by, the internal laws of the State of Florida. The parties hereto agree that any claim or dispute arising under or in connection with this Agreement shall be submitted for adjudication exclusively in courts of Alachua County, Florida, and both parties hereto expressly agrees to be bound by such selection of jurisdiction and venue for purposes of such adjudication. In any action arising out of or in connection with this agreement, the prevailing party shall be entitled to recover its reasonable attorney’s fees incurred.\\n\\n\\n\\n\\n\\n\\n\\n\\n\\n\\n\\n\\n5.3\\n\\n\\nTax Withholding.\\xa0\\xa0The company may withhold from any amounts payable under this Agreement such taxes as shall be required to be withheld pursuant to any applicable law or regulation.\\n\\n\\n\\n\\n\\n\\n\\n\\n\\n\\n\\n\\n5.4\\n\\n\\nSection Captions.\\xa0\\xa0Section and other captions contained in this Agreement are for reference purposes only and are in no way intended to describe, interpret, define or limit the scope, extent or intent of this Agreement or any provision hereof.\\n\\n\\n\\n\\n\\n\\n\\n\\n\\n\\n\\n\\n5.5\\n\\n\\nSeverability.\\xa0\\xa0Every provision of this Agreement is intended to be severable. If any term or provision hereof is illegal or invalid for any reason whatsoever, such illegality or invalidity shall not affect the validity of the remainder of this Agreement.\\n\\n\\n\\n\\n\\n\\n\\n\\n\\n\\n\\n\\n5.6\\n\\n\\nIntegrated Agreement.\\xa0\\xa0This Agreement constitutes the entire understanding and agreement among the parties hereto with respect to the subject matter hereof, and supersedes any other employment agreements executed before the date hereof. Except with respect to the Investment Agreement and the transactions contemplated thereby, there are no agreements, understandings, restrictions, representations, or warranties among the parties other than those set forth herein or herein provided for.\\n\\n\\n\\n\\n\\n\\n\\n\\n\\n\\n\\n\\n5.7\\n\\n\\nInterpretation.\\xa0\\xa0No provision of this Agreement is to be interpreted for or against any party because that party or that party’s legal representative drafted such provision. For purposes of this Agreement: “herein,” “hereby,” “hereunder,” “herewith,” “hereafter,” and “hereinafter” refer to this Agreement in its entirety, and not to any particular section or subsection. This Agreement may be executed in any number of counterparts, each of which shall be deemed an original, and all of which shall constitute one and the same instrument.\\n\\n\\n\\n\\n\\n\\n\\n\\n\\n\\n\\n\\n5.8\\n\\n\\nNotices.\\xa0\\xa0All notices, requests, demands, or other communications required or permitted hereunder shall be in writing and shall be deemed to have been duly given upon receipt if delivered in person or by Federal Express (or similar overnight courier service) to the parties at the following addresses:\\n\\n\\n\\n\\n\\n\\n\\n\\n\\n\\n\\n\\n\\n\\n\\n\\n\\n\\n\\n\\n\\n\\n\\n\\n\\n\\n\\n\\n\\n\\n\\n\\n\\n\\n\\n\\n\\n\\n\\n\\n\\n\\n\\n\\nIf to Employee:\\tJeffrey L. Tate, Ph.D.\\n5279 White Ibis Drive, Suite 201\\nNorth Port, FL\\xa0\\xa034287\\n\\nIf to the Company:\\xa0\\tNanoSonic Products, Inc.\\n27317 NW 78th Avenue\\nHigh Springs, FL\\xa0\\xa032643\\n\\n\\n\\n\\n\\n\\n\\n\\n\\n\\n\\n5.9\\n\\n\\nAny party may change the address to which notices, requests, demands or other communications to such party shall be delivered or mailed by giving notice thereof to the other parties hereto in the manner provided herein. Any notice may be given on behalf of a party by its counsel.\\n\\n\\n\\n\\n\\n\\n\\n\\n\\n\\nIN WITNESS WHEREOF, the parties hereto have executed this Employment Agreement as of the Effective Date.\\n\\n\\n\\n\\n\\n\\n\\n\\n\\n\\nCOMPANY:\\n\\nNANOSONIC PRODUCTS, INC.\\n\\n\\n\\n\\n\\nBy:\\n\\n/s/ C.E. Rick Strattan\\nC.E. Rick Strattan\\nChief Executive Officer\\n\\n\\nDate:\\tFebruary 15, 2010\\n\\n\\nEMPLOYEE:\\n\\n/s/ Jeffrey L. Tate\\nJEFFREY L. TATE, Ph.D.\\nPresident, Chief Operating Officer\\n\\nDate: February 15, 2010', {'entities': [(9245, 9262, 'Date_aggrement'), (9180, 9195, 'Name_employee'), (9129, 9146, 'Date_aggrement'), (9044, 9048, 'Name_employee'), (9020, 9044, 'Name_employer'), (9003, 9007, 'Name_employee'), (8999, 9003, 'Name_employee'), (8888, 8892, 'Name_employee'), (8884, 8888, 'Name_employee'), (8594, 8598, 'Name_employee'), (8590, 8594, 'Name_employee'), (8586, 8590, 'Name_employee'), (8397, 8401, 'Name_employee'), (8393, 8397, 'Name_employee'), (8389, 8393, 'Name_employee'), (8385, 8389, 'Name_employee'), (8381, 8385, 'Name_employee'), (8377, 8381, 'Name_employee'), (8373, 8377, 'Name_employee'), (8369, 8373, 'Name_employee'), (8365, 8369, 'Name_employee'), (8361, 8365, 'Name_employee'), (8357, 8361, 'Name_employee'), (8045, 8049, 'Name_employee'), (8041, 8045, 'Name_employee'), (8037, 8041, 'Name_employee'), (7487, 7491, 'Name_employee'), (7483, 7487, 'Name_employee'), (7479, 7483, 'Name_employee'), (6979, 6983, 'Name_employee'), (6975, 6979, 'Name_employee'), (6971, 6975, 'Name_employee'), (6706, 6710, 'Name_employee'), (6702, 6706, 'Name_employee'), (6698, 6702, 'Name_employee'), (6444, 6448, 'Name_employee'), (6440, 6444, 'Name_employee'), (6436, 6440, 'Name_employee'), (6244, 6248, 'Name_employee'), (6240, 6244, 'Name_employee'), (6236, 6240, 'Name_employee'), (5554, 5558, 'Name_employee'), (5550, 5554, 'Name_employee'), (5546, 5550, 'Name_employee'), (5542, 5546, 'Name_employee'), (5538, 5542, 'Name_employee'), (5534, 5538, 'Name_employee'), (5530, 5534, 'Name_employee'), (5526, 5530, 'Name_employee'), (5522, 5526, 'Name_employee'), (5518, 5522, 'Name_employee'), (4907, 4911, 'Name_employee'), (4903, 4907, 'Name_employee'), (4899, 4903, 'Name_employee'), (4875, 4879, 'Name_employee'), (4871, 4875, 'Name_employee'), (4867, 4871, 'Name_employee'), (4445, 4449, 'Name_employee'), (4441, 4445, 'Name_employee'), (4437, 4441, 'Name_employee'), (4165, 4169, 'Name_employee'), (4161, 4165, 'Name_employee'), (4157, 4161, 'Name_employee'), (4090, 4156, 'Notice_period'), (3701, 3705, 'Name_employee'), (3697, 3701, 'Name_employee'), (3693, 3697, 'Name_employee'), (3391, 3395, 'Name_employee'), (3387, 3391, 'Name_employee'), (3383, 3387, 'Name_employee'), (3310, 3314, 'Name_employee'), (3306, 3310, 'Name_employee'), (3302, 3306, 'Name_employee'), (3182, 3186, 'Name_employee'), (3178, 3182, 'Name_employee'), (3174, 3178, 'Name_employee'), (2823, 2827, 'Name_employee'), (2819, 2823, 'Name_employee'), (2815, 2819, 'Name_employee'), (2782, 2786, 'Name_employee'), (2778, 2782, 'Name_employee'), (2774, 2778, 'Name_employee'), (2629, 2633, 'Name_employee'), (2625, 2629, 'Name_employee'), (2621, 2625, 'Name_employee'), (2617, 2621, 'Name_employee'), (2613, 2617, 'Name_employee'), (2609, 2613, 'Name_employee'), (2605, 2609, 'Name_employee'), (2601, 2605, 'Name_employee'), (2597, 2601, 'Name_employee'), (2593, 2597, 'Name_employee'), (2437, 2470, 'Other_compensation'), (2330, 2352, 'Other_compensation'), (2172, 2226, 'Vacation'), (2005, 2009, 'Name_employee'), (2001, 2005, 'Name_employee'), (1997, 2001, 'Name_employee'), (1801, 1820, 'Base_Salary'), (1717, 1721, 'Name_employee'), (1713, 1717, 'Name_employee'), (1709, 1713, 'Name_employee'), (1561, 1565, 'Name_employee'), (1557, 1561, 'Name_employee'), (1553, 1557, 'Name_employee'), (1009, 1046, 'Role'), (886, 903, 'Date_aggrement'), (773, 777, 'Name_employee'), (769, 773, 'Name_employee'), (765, 769, 'Name_employee'), (745, 749, 'Name_employee'), (741, 745, 'Name_employee'), (484, 488, 'Name_employee'), (313, 317, 'Name_employee'), (298, 302, 'Name_employee'), (258, 273, 'Name_employee'), (189, 213, 'Name_employer'), (132, 149, 'Date_aggrement'), (63, 67, 'Name_employee'), (37, 41, 'Name_employee')]})\n"
          ],
          "name": "stdout"
        }
      ]
    },
    {
      "metadata": {
        "id": "Obyy3xA9d7_X",
        "colab_type": "code",
        "colab": {
          "base_uri": "https://localhost:8080/",
          "height": 51
        },
        "outputId": "68555313-3d0e-43c3-fb29-4fcaa93d4a05"
      },
      "cell_type": "code",
      "source": [
        "!pip install -U -q PyDrive\n",
        "from pydrive.auth import GoogleAuth\n",
        "from pydrive.drive import GoogleDrive \n",
        "from google.colab import auth \n",
        "from oauth2client.client import GoogleCredentials"
      ],
      "execution_count": 40,
      "outputs": [
        {
          "output_type": "stream",
          "text": [
            "\u001b[?25l\r\u001b[K    1% |▎                               | 10kB 21.2MB/s eta 0:00:01\r\u001b[K    2% |▋                               | 20kB 2.2MB/s eta 0:00:01\r\u001b[K    3% |█                               | 30kB 3.2MB/s eta 0:00:01\r\u001b[K    4% |█▎                              | 40kB 2.1MB/s eta 0:00:01\r\u001b[K    5% |█▋                              | 51kB 2.6MB/s eta 0:00:01\r\u001b[K    6% |██                              | 61kB 3.1MB/s eta 0:00:01\r\u001b[K    7% |██▎                             | 71kB 3.6MB/s eta 0:00:01\r\u001b[K    8% |██▋                             | 81kB 4.0MB/s eta 0:00:01\r\u001b[K    9% |███                             | 92kB 3.1MB/s eta 0:00:01\r\u001b[K    10% |███▎                            | 102kB 3.4MB/s eta 0:00:01\r\u001b[K    11% |███▋                            | 112kB 3.5MB/s eta 0:00:01\r\u001b[K    12% |████                            | 122kB 4.9MB/s eta 0:00:01\r\u001b[K    13% |████▎                           | 133kB 4.8MB/s eta 0:00:01\r\u001b[K    14% |████▋                           | 143kB 8.9MB/s eta 0:00:01\r\u001b[K    15% |█████                           | 153kB 9.0MB/s eta 0:00:01\r\u001b[K    16% |█████▎                          | 163kB 9.0MB/s eta 0:00:01\r\u001b[K    17% |█████▋                          | 174kB 9.0MB/s eta 0:00:01\r\u001b[K    18% |██████                          | 184kB 9.0MB/s eta 0:00:01\r\u001b[K    19% |██████▎                         | 194kB 42.4MB/s eta 0:00:01\r\u001b[K    20% |██████▋                         | 204kB 38.5MB/s eta 0:00:01\r\u001b[K    21% |███████                         | 215kB 10.7MB/s eta 0:00:01\r\u001b[K    22% |███████▎                        | 225kB 10.7MB/s eta 0:00:01\r\u001b[K    23% |███████▋                        | 235kB 10.7MB/s eta 0:00:01\r\u001b[K    24% |████████                        | 245kB 10.8MB/s eta 0:00:01\r\u001b[K    25% |████████▎                       | 256kB 10.7MB/s eta 0:00:01\r\u001b[K    26% |████████▋                       | 266kB 10.5MB/s eta 0:00:01\r\u001b[K    27% |█████████                       | 276kB 10.6MB/s eta 0:00:01\r\u001b[K    29% |█████████▎                      | 286kB 10.6MB/s eta 0:00:01\r\u001b[K    30% |█████████▋                      | 296kB 10.7MB/s eta 0:00:01\r\u001b[K    31% |██████████                      | 307kB 11.0MB/s eta 0:00:01\r\u001b[K    32% |██████████▎                     | 317kB 44.5MB/s eta 0:00:01\r\u001b[K    33% |██████████▋                     | 327kB 45.2MB/s eta 0:00:01\r\u001b[K    34% |███████████                     | 337kB 46.1MB/s eta 0:00:01\r\u001b[K    35% |███████████▎                    | 348kB 42.0MB/s eta 0:00:01\r\u001b[K    36% |███████████▋                    | 358kB 42.4MB/s eta 0:00:01\r\u001b[K    37% |████████████                    | 368kB 47.9MB/s eta 0:00:01\r\u001b[K    38% |████████████▎                   | 378kB 47.4MB/s eta 0:00:01\r\u001b[K    39% |████████████▋                   | 389kB 46.6MB/s eta 0:00:01\r\u001b[K    40% |█████████████                   | 399kB 12.3MB/s eta 0:00:01\r\u001b[K    41% |█████████████▎                  | 409kB 12.1MB/s eta 0:00:01\r\u001b[K    42% |█████████████▋                  | 419kB 12.0MB/s eta 0:00:01\r\u001b[K    43% |██████████████                  | 430kB 12.1MB/s eta 0:00:01\r\u001b[K    44% |██████████████▎                 | 440kB 12.1MB/s eta 0:00:01\r\u001b[K    45% |██████████████▋                 | 450kB 12.3MB/s eta 0:00:01\r\u001b[K    46% |███████████████                 | 460kB 12.3MB/s eta 0:00:01\r\u001b[K    47% |███████████████▎                | 471kB 12.3MB/s eta 0:00:01\r\u001b[K    48% |███████████████▋                | 481kB 12.3MB/s eta 0:00:01\r\u001b[K    49% |████████████████                | 491kB 12.3MB/s eta 0:00:01\r\u001b[K    50% |████████████████▎               | 501kB 47.9MB/s eta 0:00:01\r\u001b[K    51% |████████████████▋               | 512kB 47.1MB/s eta 0:00:01\r\u001b[K    52% |█████████████████               | 522kB 47.2MB/s eta 0:00:01\r\u001b[K    53% |█████████████████▎              | 532kB 48.3MB/s eta 0:00:01\r\u001b[K    54% |█████████████████▋              | 542kB 49.1MB/s eta 0:00:01\r\u001b[K    55% |██████████████████              | 552kB 51.9MB/s eta 0:00:01\r\u001b[K    57% |██████████████████▎             | 563kB 11.6MB/s eta 0:00:01\r\u001b[K    58% |██████████████████▋             | 573kB 11.2MB/s eta 0:00:01\r\u001b[K    59% |███████████████████             | 583kB 11.2MB/s eta 0:00:01\r\u001b[K    60% |███████████████████▎            | 593kB 11.2MB/s eta 0:00:01\r\u001b[K    61% |███████████████████▋            | 604kB 11.1MB/s eta 0:00:01\r\u001b[K    62% |████████████████████            | 614kB 11.3MB/s eta 0:00:01\r\u001b[K    63% |████████████████████▎           | 624kB 11.3MB/s eta 0:00:01\r\u001b[K    64% |████████████████████▋           | 634kB 11.2MB/s eta 0:00:01\r\u001b[K    65% |█████████████████████           | 645kB 11.1MB/s eta 0:00:01\r\u001b[K    66% |█████████████████████▎          | 655kB 11.0MB/s eta 0:00:01\r\u001b[K    67% |█████████████████████▋          | 665kB 34.9MB/s eta 0:00:01\r\u001b[K    68% |██████████████████████          | 675kB 39.3MB/s eta 0:00:01\r\u001b[K    69% |██████████████████████▎         | 686kB 39.7MB/s eta 0:00:01\r\u001b[K    70% |██████████████████████▋         | 696kB 40.3MB/s eta 0:00:01\r\u001b[K    71% |███████████████████████         | 706kB 40.4MB/s eta 0:00:01\r\u001b[K    72% |███████████████████████▎        | 716kB 40.5MB/s eta 0:00:01\r\u001b[K    73% |███████████████████████▋        | 727kB 40.1MB/s eta 0:00:01\r\u001b[K    74% |████████████████████████        | 737kB 40.4MB/s eta 0:00:01\r\u001b[K    75% |████████████████████████▎       | 747kB 41.2MB/s eta 0:00:01\r\u001b[K    76% |████████████████████████▋       | 757kB 41.7MB/s eta 0:00:01\r\u001b[K    77% |████████████████████████▉       | 768kB 52.0MB/s eta 0:00:01\r\u001b[K    78% |█████████████████████████▏      | 778kB 52.2MB/s eta 0:00:01\r\u001b[K    79% |█████████████████████████▌      | 788kB 51.7MB/s eta 0:00:01\r\u001b[K    80% |█████████████████████████▉      | 798kB 51.2MB/s eta 0:00:01\r\u001b[K    81% |██████████████████████████▏     | 808kB 51.1MB/s eta 0:00:01\r\u001b[K    82% |██████████████████████████▌     | 819kB 50.9MB/s eta 0:00:01\r\u001b[K    83% |██████████████████████████▉     | 829kB 53.5MB/s eta 0:00:01\r\u001b[K    85% |███████████████████████████▏    | 839kB 53.4MB/s eta 0:00:01\r\u001b[K    86% |███████████████████████████▌    | 849kB 51.7MB/s eta 0:00:01\r\u001b[K    87% |███████████████████████████▉    | 860kB 47.9MB/s eta 0:00:01\r\u001b[K    88% |████████████████████████████▏   | 870kB 48.2MB/s eta 0:00:01\r\u001b[K    89% |████████████████████████████▌   | 880kB 48.7MB/s eta 0:00:01\r\u001b[K    90% |████████████████████████████▉   | 890kB 48.8MB/s eta 0:00:01\r\u001b[K    91% |█████████████████████████████▏  | 901kB 48.9MB/s eta 0:00:01\r\u001b[K    92% |█████████████████████████████▌  | 911kB 48.8MB/s eta 0:00:01\r\u001b[K    93% |█████████████████████████████▉  | 921kB 48.4MB/s eta 0:00:01\r\u001b[K    94% |██████████████████████████████▏ | 931kB 48.0MB/s eta 0:00:01\r\u001b[K    95% |██████████████████████████████▌ | 942kB 48.8MB/s eta 0:00:01\r\u001b[K    96% |██████████████████████████████▉ | 952kB 50.1MB/s eta 0:00:01\r\u001b[K    97% |███████████████████████████████▏| 962kB 54.7MB/s eta 0:00:01\r\u001b[K    98% |███████████████████████████████▌| 972kB 54.3MB/s eta 0:00:01\r\u001b[K    99% |███████████████████████████████▉| 983kB 53.0MB/s eta 0:00:01\r\u001b[K    100% |████████████████████████████████| 993kB 20.0MB/s \n",
            "\u001b[?25h  Building wheel for PyDrive (setup.py) ... \u001b[?25ldone\n",
            "\u001b[?25h"
          ],
          "name": "stdout"
        }
      ]
    },
    {
      "metadata": {
        "id": "gl9r1e9P7JuW",
        "colab_type": "code",
        "colab": {}
      },
      "cell_type": "code",
      "source": [
        "auth.authenticate_user()\n",
        "gauth = GoogleAuth()\n",
        "gauth.credentials = GoogleCredentials.get_application_default()                       \n",
        "drive = GoogleDrive(gauth)"
      ],
      "execution_count": 0,
      "outputs": []
    },
    {
      "metadata": {
        "id": "-L3ykoZpeMvd",
        "colab_type": "code",
        "colab": {
          "base_uri": "https://localhost:8080/",
          "height": 180
        },
        "outputId": "735c0dfe-edcd-4168-d3e6-b834d2acc4f1"
      },
      "cell_type": "code",
      "source": [
        "nlp.save('spacy_temp.h5')\n",
        "model_file = drive.CreateFile({'title' : 'spacy_temp.h5'})"
      ],
      "execution_count": 45,
      "outputs": [
        {
          "output_type": "error",
          "ename": "AttributeError",
          "evalue": "ignored",
          "traceback": [
            "\u001b[0;31m---------------------------------------------------------------------------\u001b[0m",
            "\u001b[0;31mAttributeError\u001b[0m                            Traceback (most recent call last)",
            "\u001b[0;32m<ipython-input-45-d9aefcb046c3>\u001b[0m in \u001b[0;36m<module>\u001b[0;34m()\u001b[0m\n\u001b[0;32m----> 1\u001b[0;31m \u001b[0mnlp\u001b[0m\u001b[0;34m.\u001b[0m\u001b[0msave\u001b[0m\u001b[0;34m(\u001b[0m\u001b[0;34m'spacy_temp.h5'\u001b[0m\u001b[0;34m)\u001b[0m\u001b[0;34m\u001b[0m\u001b[0;34m\u001b[0m\u001b[0m\n\u001b[0m\u001b[1;32m      2\u001b[0m \u001b[0mmodel_file\u001b[0m \u001b[0;34m=\u001b[0m \u001b[0mdrive\u001b[0m\u001b[0;34m.\u001b[0m\u001b[0mCreateFile\u001b[0m\u001b[0;34m(\u001b[0m\u001b[0;34m{\u001b[0m\u001b[0;34m'title'\u001b[0m \u001b[0;34m:\u001b[0m \u001b[0;34m'spacy_temp.h5'\u001b[0m\u001b[0;34m}\u001b[0m\u001b[0;34m)\u001b[0m\u001b[0;34m\u001b[0m\u001b[0;34m\u001b[0m\u001b[0m\n",
            "\u001b[0;31mAttributeError\u001b[0m: 'English' object has no attribute 'save'"
          ]
        }
      ]
    },
    {
      "metadata": {
        "id": "J48wSxkpeB1O",
        "colab_type": "code",
        "colab": {
          "base_uri": "https://localhost:8080/",
          "height": 34
        },
        "outputId": "e8ea0f92-e64b-47eb-e46b-c38e3b6a15c8"
      },
      "cell_type": "code",
      "source": [
        "!pwd"
      ],
      "execution_count": 46,
      "outputs": [
        {
          "output_type": "stream",
          "text": [
            "/content\n"
          ],
          "name": "stdout"
        }
      ]
    },
    {
      "metadata": {
        "id": "NjKJA0WgfUNV",
        "colab_type": "code",
        "colab": {
          "base_uri": "https://localhost:8080/",
          "height": 68
        },
        "outputId": "de593a4b-1ed8-4fab-dee4-99d966ac28fc"
      },
      "cell_type": "code",
      "source": [
        "!ls\n"
      ],
      "execution_count": 47,
      "outputs": [
        {
          "output_type": "stream",
          "text": [
            " adc.json\t 'data (3).json'   sample_work_model_300_drop_0.05\n",
            "'data (1).json'   data.json\n",
            "'data (2).json'   sample_data\n"
          ],
          "name": "stdout"
        }
      ]
    },
    {
      "metadata": {
        "id": "I3fOcg5UfWBp",
        "colab_type": "code",
        "colab": {
          "resources": {
            "http://localhost:22037/content/sample_work_model_300_drop_0.05": {
              "data": "CjwhRE9DVFlQRSBodG1sPgo8aHRtbCBsYW5nPWVuPgogIDxtZXRhIGNoYXJzZXQ9dXRmLTg+CiAgPG1ldGEgbmFtZT12aWV3cG9ydCBjb250ZW50PSJpbml0aWFsLXNjYWxlPTEsIG1pbmltdW0tc2NhbGU9MSwgd2lkdGg9ZGV2aWNlLXdpZHRoIj4KICA8dGl0bGU+RXJyb3IgNTAxIChOb3QgSW1wbGVtZW50ZWQpISExPC90aXRsZT4KICA8c3R5bGU+CiAgICAqe21hcmdpbjowO3BhZGRpbmc6MH1odG1sLGNvZGV7Zm9udDoxNXB4LzIycHggYXJpYWwsc2Fucy1zZXJpZn1odG1se2JhY2tncm91bmQ6I2ZmZjtjb2xvcjojMjIyO3BhZGRpbmc6MTVweH1ib2R5e21hcmdpbjo3JSBhdXRvIDA7bWF4LXdpZHRoOjM5MHB4O21pbi1oZWlnaHQ6MTgwcHg7cGFkZGluZzozMHB4IDAgMTVweH0qID4gYm9keXtiYWNrZ3JvdW5kOnVybCgvL3d3dy5nb29nbGUuY29tL2ltYWdlcy9lcnJvcnMvcm9ib3QucG5nKSAxMDAlIDVweCBuby1yZXBlYXQ7cGFkZGluZy1yaWdodDoyMDVweH1we21hcmdpbjoxMXB4IDAgMjJweDtvdmVyZmxvdzpoaWRkZW59aW5ze2NvbG9yOiM3Nzc7dGV4dC1kZWNvcmF0aW9uOm5vbmV9YSBpbWd7Ym9yZGVyOjB9QG1lZGlhIHNjcmVlbiBhbmQgKG1heC13aWR0aDo3NzJweCl7Ym9keXtiYWNrZ3JvdW5kOm5vbmU7bWFyZ2luLXRvcDowO21heC13aWR0aDpub25lO3BhZGRpbmctcmlnaHQ6MH19I2xvZ297YmFja2dyb3VuZDp1cmwoLy93d3cuZ29vZ2xlLmNvbS9pbWFnZXMvbG9nb3MvZXJyb3JwYWdlL2Vycm9yX2xvZ28tMTUweDU0LnBuZykgbm8tcmVwZWF0O21hcmdpbi1sZWZ0Oi01cHh9QG1lZGlhIG9ubHkgc2NyZWVuIGFuZCAobWluLXJlc29sdXRpb246MTkyZHBpKXsjbG9nb3tiYWNrZ3JvdW5kOnVybCgvL3d3dy5nb29nbGUuY29tL2ltYWdlcy9sb2dvcy9lcnJvcnBhZ2UvZXJyb3JfbG9nby0xNTB4NTQtMngucG5nKSBuby1yZXBlYXQgMCUgMCUvMTAwJSAxMDAlOy1tb3otYm9yZGVyLWltYWdlOnVybCgvL3d3dy5nb29nbGUuY29tL2ltYWdlcy9sb2dvcy9lcnJvcnBhZ2UvZXJyb3JfbG9nby0xNTB4NTQtMngucG5nKSAwfX1AbWVkaWEgb25seSBzY3JlZW4gYW5kICgtd2Via2l0LW1pbi1kZXZpY2UtcGl4ZWwtcmF0aW86Mil7I2xvZ297YmFja2dyb3VuZDp1cmwoLy93d3cuZ29vZ2xlLmNvbS9pbWFnZXMvbG9nb3MvZXJyb3JwYWdlL2Vycm9yX2xvZ28tMTUweDU0LTJ4LnBuZykgbm8tcmVwZWF0Oy13ZWJraXQtYmFja2dyb3VuZC1zaXplOjEwMCUgMTAwJX19I2xvZ297ZGlzcGxheTppbmxpbmUtYmxvY2s7aGVpZ2h0OjU0cHg7d2lkdGg6MTUwcHh9CiAgPC9zdHlsZT4KICA8YSBocmVmPS8vd3d3Lmdvb2dsZS5jb20vPjxzcGFuIGlkPWxvZ28gYXJpYS1sYWJlbD1Hb29nbGU+PC9zcGFuPjwvYT4KICA8cD48Yj41MDEuPC9iPiA8aW5zPlRoYXTigJlzIGFuIGVycm9yLjwvaW5zPgogIDxwPiAgPGlucz5UaGF04oCZcyBhbGwgd2Uga25vdy48L2lucz4K",
              "ok": false,
              "headers": [
                [
                  "content-length",
                  "1455"
                ],
                [
                  "content-type",
                  "text/html; charset=utf-8"
                ]
              ],
              "status": 501,
              "status_text": ""
            }
          },
          "base_uri": "https://localhost:8080/",
          "height": 520
        },
        "outputId": "5fb52c3c-f294-4332-ddf2-d74b83713276"
      },
      "cell_type": "code",
      "source": [
        "from google.colab import files\n",
        "files.download('sample_work_model_300_drop_0.05')"
      ],
      "execution_count": 48,
      "outputs": [
        {
          "output_type": "error",
          "ename": "MessageError",
          "evalue": "ignored",
          "traceback": [
            "\u001b[0;31m---------------------------------------------------------------------------\u001b[0m",
            "\u001b[0;31mMessageError\u001b[0m                              Traceback (most recent call last)",
            "\u001b[0;32m<ipython-input-48-480152ed6fc5>\u001b[0m in \u001b[0;36m<module>\u001b[0;34m()\u001b[0m\n\u001b[1;32m      1\u001b[0m \u001b[0;32mfrom\u001b[0m \u001b[0mgoogle\u001b[0m\u001b[0;34m.\u001b[0m\u001b[0mcolab\u001b[0m \u001b[0;32mimport\u001b[0m \u001b[0mfiles\u001b[0m\u001b[0;34m\u001b[0m\u001b[0;34m\u001b[0m\u001b[0m\n\u001b[0;32m----> 2\u001b[0;31m \u001b[0mfiles\u001b[0m\u001b[0;34m.\u001b[0m\u001b[0mdownload\u001b[0m\u001b[0;34m(\u001b[0m\u001b[0;34m'sample_work_model_300_drop_0.05'\u001b[0m\u001b[0;34m)\u001b[0m\u001b[0;34m\u001b[0m\u001b[0;34m\u001b[0m\u001b[0m\n\u001b[0m",
            "\u001b[0;32m/usr/local/lib/python3.6/dist-packages/google/colab/files.py\u001b[0m in \u001b[0;36mdownload\u001b[0;34m(filename)\u001b[0m\n\u001b[1;32m    176\u001b[0m       \u001b[0;34m'port'\u001b[0m\u001b[0;34m:\u001b[0m \u001b[0mport\u001b[0m\u001b[0;34m,\u001b[0m\u001b[0;34m\u001b[0m\u001b[0;34m\u001b[0m\u001b[0m\n\u001b[1;32m    177\u001b[0m       \u001b[0;34m'path'\u001b[0m\u001b[0;34m:\u001b[0m \u001b[0m_os\u001b[0m\u001b[0;34m.\u001b[0m\u001b[0mpath\u001b[0m\u001b[0;34m.\u001b[0m\u001b[0mabspath\u001b[0m\u001b[0;34m(\u001b[0m\u001b[0mfilename\u001b[0m\u001b[0;34m)\u001b[0m\u001b[0;34m,\u001b[0m\u001b[0;34m\u001b[0m\u001b[0;34m\u001b[0m\u001b[0m\n\u001b[0;32m--> 178\u001b[0;31m       \u001b[0;34m'name'\u001b[0m\u001b[0;34m:\u001b[0m \u001b[0m_os\u001b[0m\u001b[0;34m.\u001b[0m\u001b[0mpath\u001b[0m\u001b[0;34m.\u001b[0m\u001b[0mbasename\u001b[0m\u001b[0;34m(\u001b[0m\u001b[0mfilename\u001b[0m\u001b[0;34m)\u001b[0m\u001b[0;34m,\u001b[0m\u001b[0;34m\u001b[0m\u001b[0;34m\u001b[0m\u001b[0m\n\u001b[0m\u001b[1;32m    179\u001b[0m   })\n",
            "\u001b[0;32m/usr/local/lib/python3.6/dist-packages/google/colab/output/_js.py\u001b[0m in \u001b[0;36meval_js\u001b[0;34m(script, ignore_result)\u001b[0m\n\u001b[1;32m     37\u001b[0m   \u001b[0;32mif\u001b[0m \u001b[0mignore_result\u001b[0m\u001b[0;34m:\u001b[0m\u001b[0;34m\u001b[0m\u001b[0;34m\u001b[0m\u001b[0m\n\u001b[1;32m     38\u001b[0m     \u001b[0;32mreturn\u001b[0m\u001b[0;34m\u001b[0m\u001b[0;34m\u001b[0m\u001b[0m\n\u001b[0;32m---> 39\u001b[0;31m   \u001b[0;32mreturn\u001b[0m \u001b[0m_message\u001b[0m\u001b[0;34m.\u001b[0m\u001b[0mread_reply_from_input\u001b[0m\u001b[0;34m(\u001b[0m\u001b[0mrequest_id\u001b[0m\u001b[0;34m)\u001b[0m\u001b[0;34m\u001b[0m\u001b[0;34m\u001b[0m\u001b[0m\n\u001b[0m\u001b[1;32m     40\u001b[0m \u001b[0;34m\u001b[0m\u001b[0m\n\u001b[1;32m     41\u001b[0m \u001b[0;34m\u001b[0m\u001b[0m\n",
            "\u001b[0;32m/usr/local/lib/python3.6/dist-packages/google/colab/_message.py\u001b[0m in \u001b[0;36mread_reply_from_input\u001b[0;34m(message_id, timeout_sec)\u001b[0m\n\u001b[1;32m    104\u001b[0m         reply.get('colab_msg_id') == message_id):\n\u001b[1;32m    105\u001b[0m       \u001b[0;32mif\u001b[0m \u001b[0;34m'error'\u001b[0m \u001b[0;32min\u001b[0m \u001b[0mreply\u001b[0m\u001b[0;34m:\u001b[0m\u001b[0;34m\u001b[0m\u001b[0;34m\u001b[0m\u001b[0m\n\u001b[0;32m--> 106\u001b[0;31m         \u001b[0;32mraise\u001b[0m \u001b[0mMessageError\u001b[0m\u001b[0;34m(\u001b[0m\u001b[0mreply\u001b[0m\u001b[0;34m[\u001b[0m\u001b[0;34m'error'\u001b[0m\u001b[0;34m]\u001b[0m\u001b[0;34m)\u001b[0m\u001b[0;34m\u001b[0m\u001b[0;34m\u001b[0m\u001b[0m\n\u001b[0m\u001b[1;32m    107\u001b[0m       \u001b[0;32mreturn\u001b[0m \u001b[0mreply\u001b[0m\u001b[0;34m.\u001b[0m\u001b[0mget\u001b[0m\u001b[0;34m(\u001b[0m\u001b[0;34m'data'\u001b[0m\u001b[0;34m,\u001b[0m \u001b[0;32mNone\u001b[0m\u001b[0;34m)\u001b[0m\u001b[0;34m\u001b[0m\u001b[0;34m\u001b[0m\u001b[0m\n\u001b[1;32m    108\u001b[0m \u001b[0;34m\u001b[0m\u001b[0m\n",
            "\u001b[0;31mMessageError\u001b[0m: Error: Failed to download: "
          ]
        }
      ]
    },
    {
      "metadata": {
        "id": "STGauX-pfwUf",
        "colab_type": "code",
        "colab": {}
      },
      "cell_type": "code",
      "source": [
        ""
      ],
      "execution_count": 0,
      "outputs": []
    }
  ]
}